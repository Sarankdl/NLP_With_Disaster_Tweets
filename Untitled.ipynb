{
 "cells": [
  {
   "cell_type": "code",
   "execution_count": 1,
   "metadata": {},
   "outputs": [],
   "source": [
    "import numpy as np \n",
    "import pandas as pd \n",
    "import matplotlib.pyplot as plt"
   ]
  },
  {
   "cell_type": "code",
   "execution_count": 7,
   "metadata": {},
   "outputs": [
    {
     "name": "stdout",
     "output_type": "stream",
     "text": [
      "Training Set Shape = (7613, 5)\n",
      "Training Set Memory Usage = 0.20 MB\n",
      "Testing Set shape = (3263, 4)\n",
      "Testing Set Memory Usage = 0.08 MB\n"
     ]
    }
   ],
   "source": [
    "df_train = pd.read_csv(\"nlp-getting-started/train.csv\", dtype={'id':np.int16, 'target':np.int8})\n",
    "df_test = pd.read_csv(\"nlp-getting-started/test.csv\", dtype={'id':np.int16, 'target':np.int8})\n",
    "\n",
    "print('Training Set Shape = {}'.format(df_train.shape))\n",
    "print('Training Set Memory Usage = {:.2f} MB'.format(df_train.memory_usage().sum()/ 1024**2))\n",
    "\n",
    "print('Testing Set shape = {}'.format(df_test.shape))\n",
    "print('Testing Set Memory Usage = {:.2f} MB'.format(df_test.memory_usage().sum() / 1024**2))"
   ]
  },
  {
   "cell_type": "code",
   "execution_count": 8,
   "metadata": {},
   "outputs": [
    {
     "name": "stdout",
     "output_type": "stream",
     "text": [
      "Number of unique values in keyword = 221 (Training) - 221 (Test)\n"
     ]
    }
   ],
   "source": [
    "print(f'Number of unique values in keyword = {df_train[\"keyword\"].nunique()} (Training) - {df_test[\"keyword\"].nunique()} (Test)')"
   ]
  },
  {
   "cell_type": "code",
   "execution_count": 9,
   "metadata": {},
   "outputs": [
    {
     "name": "stdout",
     "output_type": "stream",
     "text": [
      "Number of unique values in location = 3341 (Training) - 1602 (Test)\n"
     ]
    }
   ],
   "source": [
    "print(f'Number of unique values in location = {df_train[\"location\"].nunique()} (Training) - {df_test[\"location\"].nunique()} (Test)')"
   ]
  },
  {
   "cell_type": "code",
   "execution_count": null,
   "metadata": {},
   "outputs": [],
   "source": []
  }
 ],
 "metadata": {
  "kernelspec": {
   "display_name": "Python 3",
   "language": "python",
   "name": "python3"
  },
  "language_info": {
   "codemirror_mode": {
    "name": "ipython",
    "version": 3
   },
   "file_extension": ".py",
   "mimetype": "text/x-python",
   "name": "python",
   "nbconvert_exporter": "python",
   "pygments_lexer": "ipython3",
   "version": "3.6.5"
  }
 },
 "nbformat": 4,
 "nbformat_minor": 4
}
